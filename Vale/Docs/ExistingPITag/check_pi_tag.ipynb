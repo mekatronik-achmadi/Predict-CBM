{
 "cells": [
  {
   "cell_type": "code",
   "execution_count": 5,
   "metadata": {},
   "outputs": [],
   "source": [
    "# import necessary packages\n",
    "import numpy as np \n",
    "import pandas as pd\n",
    "\n",
    "import sys\n",
    "sys.path.append(\"../../PredictPIServer/ValePredictPI/\")\n",
    "from vale_connect import ValeConnect"
   ]
  },
  {
   "cell_type": "code",
   "execution_count": 8,
   "metadata": {},
   "outputs": [
    {
     "data": {
      "text/plain": [
       "0           U-OTN-TOWUTI-LEVEL-AI\n",
       "1          U-LCNL-lsplc.N38:79-AI\n",
       "2          U-LGS-TailRaceLevel-AI\n",
       "3      U-LNCL-KanalMSGOutAnlg2-AI\n",
       "4      U-LNCL-KanalMSGOutAnlg3-AI\n",
       "                  ...            \n",
       "275           U-LGS1-TI-81104J-AI\n",
       "276           U-LGS1-TI-81104K-AI\n",
       "277           U-LGS1-TI-81104L-AI\n",
       "278      U-LGS1-UGB-X-PK-PK-70-AI\n",
       "279     U-LGS1-UGB-Y-PK-PK-340-AI\n",
       "Name: PI Tag, Length: 280, dtype: object"
      ]
     },
     "execution_count": 8,
     "metadata": {},
     "output_type": "execute_result"
    }
   ],
   "source": [
    "# load and read the json file\n",
    "pi_tag_list = pd.read_json(\"json_data.json\")\n",
    "pi_tag = pi_tag_list['PI Tag']"
   ]
  },
  {
   "cell_type": "code",
   "execution_count": null,
   "metadata": {},
   "outputs": [],
   "source": [
    "# create connection to PI Database\n",
    "server_root = '142.40.33.208'\n",
    "server_base = 'pti-pi'\n",
    "\n",
    "conn = ValeConnect(server_root, server_base)\n",
    "\n",
    "time_list = ['2023-10-11 16:00:00','2023-10-11 16:00:01']\n",
    "\n",
    "for i in range(len(pi_tag)):\n",
    "    x_tag_wid = conn.get_webid_point(pi_tag[i])\n",
    "\n",
    "    # for limited data\n",
    "    value_resp = conn.get_stream_rec_valuetimestamp_pd(x_tag_wid, time_list)\n",
    "\n",
    "    # for streaming data\n",
    "    # value_resp = conn.get_stream_rec_valuetime_pd(x_tag_wid)\n",
    "\n",
    "    # obtain dataframe shape, which indicated the number of obtained data\n",
    "    # then calculate the sample rate of the requested tag\n",
    "    print(\"The tag of \" + pi_tag[0] + \" can load: \" + value_resp.shape[0] + \" data per minute\")"
   ]
  }
 ],
 "metadata": {
  "kernelspec": {
   "display_name": "Python 3",
   "language": "python",
   "name": "python3"
  },
  "language_info": {
   "codemirror_mode": {
    "name": "ipython",
    "version": 3
   },
   "file_extension": ".py",
   "mimetype": "text/x-python",
   "name": "python",
   "nbconvert_exporter": "python",
   "pygments_lexer": "ipython3",
   "version": "3.11.5"
  },
  "orig_nbformat": 4
 },
 "nbformat": 4,
 "nbformat_minor": 2
}
