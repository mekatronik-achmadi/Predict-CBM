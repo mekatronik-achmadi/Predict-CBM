{
 "cells": [
  {
   "cell_type": "code",
   "execution_count": null,
   "metadata": {},
   "outputs": [],
   "source": [
    "import requests\n",
    "from datetime import datetime, timezone\n",
    "import numpy as np\n",
    "import matplotlib.pyplot as plt\n",
    "\n",
    "ROOT_URL = \"https://192.168.100.141/piwebapi\"\n",
    "COMPUTER = \"WIN-5MGCA5NMS7S\"\n",
    "DATABASE = \"Database1\"\n",
    "USERNAME = f\"{COMPUTER}\\Administrator\"\n",
    "PASSWORD = \"abcd1234..\""
   ]
  },
  {
   "cell_type": "code",
   "execution_count": null,
   "metadata": {},
   "outputs": [],
   "source": [
    "# Test Server\n",
    "response_server = requests.get(f\"{ROOT_URL}/\", auth=(USERNAME, PASSWORD), verify=False)\n",
    "response_server.json()"
   ]
  },
  {
   "cell_type": "code",
   "execution_count": null,
   "metadata": {},
   "outputs": [],
   "source": [
    "# Get Database WebID\n",
    "elementPath = f\"\\\\\\\\{COMPUTER}\\\\{DATABASE}\"\n",
    "rsp_element_raw = requests.get(f\"{ROOT_URL}/assetdatabases?path={elementPath}\", auth=(USERNAME, PASSWORD), verify=False)\n",
    "DATABASE_WEBID = rsp_element_raw.json()['WebId']"
   ]
  },
  {
   "cell_type": "code",
   "execution_count": null,
   "metadata": {},
   "outputs": [],
   "source": [
    "# Get By Path Element\n",
    "elementPath = f\"\\\\\\\\{COMPUTER}\\\\{DATABASE}\\\\NuGreen\\\\Tucson\\\\Distilling Process\\\\Equipment\\\\F-110\"\n",
    "rsp_element_raw = requests.get(f\"{ROOT_URL}/elements?path={elementPath}\", auth=(USERNAME, PASSWORD), verify=False)\n",
    "rsp_element_json = rsp_element_raw.json()\n",
    "\n",
    "rsp_atr_raw = requests.get(rsp_element_json['Links']['Attributes'], auth=(USERNAME, PASSWORD), verify=False)\n",
    "rsp_atr_json = rsp_atr_raw.json()\n",
    "rsp_atr_json"
   ]
  },
  {
   "cell_type": "code",
   "execution_count": null,
   "metadata": {},
   "outputs": [],
   "source": [
    "# Search By Elements\n",
    "rsp_elmQuery_raw = requests.get(f\"{ROOT_URL}/elements/search?databaseWebId={DATABASE_WEBID}&query=Name:=*b-2* Template:=Boiler\", auth=(USERNAME, PASSWORD), verify=False)\n",
    "rsp_elmQuery_json = rsp_elmQuery_raw.json() \n",
    "rsp_elmQuery_json"
   ]
  },
  {
   "cell_type": "code",
   "execution_count": null,
   "metadata": {},
   "outputs": [],
   "source": [
    "# Search By Attributes\n",
    "rsp_attrQuery_raw = requests.get(f\"{ROOT_URL}/attributes/search?databaseWebId={DATABASE_WEBID}&query=Element:{{ Template:='Unit' }} Name:='*flow*' Description:='*flow rate*'\", auth=(USERNAME, PASSWORD), verify=False)\n",
    "rsp_attrQuery_json = rsp_attrQuery_raw.json() \n",
    "rsp_attrQuery_json"
   ]
  },
  {
   "cell_type": "code",
   "execution_count": null,
   "metadata": {},
   "outputs": [],
   "source": [
    "# Get Stream Data\n",
    "rsp_strm_raw = requests.get(f\"{ROOT_URL}/streams/{rsp_attrQuery_json['Items'][0]['WebId']}/recorded\", auth=(USERNAME, PASSWORD), verify=False)\n",
    "rsp_strm_json = rsp_strm_raw.json() \n",
    "\n",
    "# And Plot It\n",
    "data_recorded = np.array([])\n",
    "for data_now in rsp_strm_json['Items']:\n",
    "    try:\n",
    "        float(data_now['Value'])\n",
    "        data_recorded = np.append(data_recorded, data_now['Value'])\n",
    "\n",
    "        # datetime.fromisoformat('2024-04-28T21:09:04Z'[:-1])\n",
    "    except:\n",
    "        data_recorded = np.append(data_recorded, -1)\n",
    "\n",
    "fig, ax = plt.subplots()\n",
    "ax.plot(data_recorded)\n",
    "plt.show()"
   ]
  }
 ],
 "metadata": {
  "language_info": {
   "name": "python"
  },
  "orig_nbformat": 4
 },
 "nbformat": 4,
 "nbformat_minor": 2
}
