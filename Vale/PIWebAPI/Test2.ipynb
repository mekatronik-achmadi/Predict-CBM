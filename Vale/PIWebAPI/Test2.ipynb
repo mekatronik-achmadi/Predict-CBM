{
 "cells": [
  {
   "cell_type": "code",
   "execution_count": 62,
   "metadata": {},
   "outputs": [
    {
     "name": "stderr",
     "output_type": "stream",
     "text": [
      "/home/arkiven4/.local/lib/python3.8/site-packages/urllib3/connectionpool.py:1103: InsecureRequestWarning: Unverified HTTPS request is being made to host '192.168.1.24'. Adding certificate verification is strongly advised. See: https://urllib3.readthedocs.io/en/latest/advanced-usage.html#tls-warnings\n",
      "  warnings.warn(\n"
     ]
    },
    {
     "data": {
      "text/plain": [
       "{'Links': {'Self': 'https://192.168.1.24/piwebapi/',\n",
       "  'AssetServers': 'https://192.168.1.24/piwebapi/assetservers',\n",
       "  'DataServers': 'https://192.168.1.24/piwebapi/dataservers',\n",
       "  'Omf': 'https://192.168.1.24/piwebapi/omf',\n",
       "  'System': 'https://192.168.1.24/piwebapi/system'}}"
      ]
     },
     "execution_count": 62,
     "metadata": {},
     "output_type": "execute_result"
    }
   ],
   "source": [
    "import numpy \n",
    "import pandas as pd\n",
    "\n",
    "import requests\n",
    "from datetime import datetime, timezone\n",
    "import numpy as np\n",
    "import matplotlib.pyplot as plt\n",
    "from pathlib import Path\n",
    "import json\n",
    "from base64 import b64encode\n",
    "\n",
    "ROOT_URL = \"https://192.168.1.24/piwebapi\"\n",
    "COMPUTER = \"WIN-5MGCA5NMS7S\"\n",
    "DATABASE = \"Database1\"\n",
    "USERNAME = f\"{COMPUTER}\\Administrator\"\n",
    "PASSWORD = \"abcd1234..\"\n",
    "\n",
    "def basic_auth(username, password):\n",
    "    token = b64encode(f\"{username}:{password}\".encode('utf-8')).decode(\"ascii\")\n",
    "    return f'Basic {token}'\n",
    "\n",
    "BASIC_AUTH_TOKEN = basic_auth(USERNAME, PASSWORD)\n",
    "POSTHEADERS = { 'X-Requested-With': 'True', 'Content-Type': 'application/json', 'Authorization': BASIC_AUTH_TOKEN }\n",
    "\n",
    "# Test Server\n",
    "response_server = requests.get(f\"{ROOT_URL}/\", auth=(USERNAME, PASSWORD), verify=False)\n",
    "response_server.json()\n"
   ]
  },
  {
   "cell_type": "code",
   "execution_count": 8,
   "metadata": {},
   "outputs": [
    {
     "name": "stderr",
     "output_type": "stream",
     "text": [
      "/home/arkiven4/.local/lib/python3.8/site-packages/urllib3/connectionpool.py:1103: InsecureRequestWarning: Unverified HTTPS request is being made to host '192.168.1.24'. Adding certificate verification is strongly advised. See: https://urllib3.readthedocs.io/en/latest/advanced-usage.html#tls-warnings\n",
      "  warnings.warn(\n"
     ]
    }
   ],
   "source": [
    "# Get Database WebID\n",
    "elementPath = f\"\\\\\\\\{COMPUTER}\\\\{DATABASE}\"\n",
    "rsp_element_raw = requests.get(f\"{ROOT_URL}/assetdatabases?path={elementPath}\", auth=(USERNAME, PASSWORD), verify=False)\n",
    "DATABASE_WEBID = rsp_element_raw.json()['WebId']"
   ]
  },
  {
   "cell_type": "code",
   "execution_count": 60,
   "metadata": {},
   "outputs": [
    {
     "name": "stderr",
     "output_type": "stream",
     "text": [
      "/home/arkiven4/.local/lib/python3.8/site-packages/urllib3/connectionpool.py:1103: InsecureRequestWarning: Unverified HTTPS request is being made to host '192.168.1.24'. Adding certificate verification is strongly advised. See: https://urllib3.readthedocs.io/en/latest/advanced-usage.html#tls-warnings\n",
      "  warnings.warn(\n"
     ]
    }
   ],
   "source": [
    "# Get DATASERVER WebID\n",
    "elementPath = f\"\\\\\\\\{COMPUTER}\\\\{DATABASE}\"\n",
    "rsp_element_raw = requests.get(f\"{ROOT_URL}/dataservers\", auth=(USERNAME, PASSWORD), verify=False)\n",
    "DATASERVER_WEBID = rsp_element_raw.json()['Items'][0]['WebId']"
   ]
  },
  {
   "cell_type": "code",
   "execution_count": 80,
   "metadata": {},
   "outputs": [
    {
     "name": "stderr",
     "output_type": "stream",
     "text": [
      "/home/arkiven4/.local/lib/python3.8/site-packages/urllib3/connectionpool.py:1103: InsecureRequestWarning: Unverified HTTPS request is being made to host '192.168.1.24'. Adding certificate verification is strongly advised. See: https://urllib3.readthedocs.io/en/latest/advanced-usage.html#tls-warnings\n",
      "  warnings.warn(\n"
     ]
    }
   ],
   "source": [
    "# Get By Path Element\n",
    "elementPath = f\"\\\\\\\\{COMPUTER}\\\\{DATABASE}\\\\Data_Site\\\\LGS\"\n",
    "rsp_element_raw = requests.get(f\"{ROOT_URL}/elements?path={elementPath}\", auth=(USERNAME, PASSWORD), verify=False)\n",
    "rsp_element_json = rsp_element_raw.json()\n",
    "ELEMENT_TARGET = rsp_element_json['WebId']"
   ]
  },
  {
   "cell_type": "code",
   "execution_count": 82,
   "metadata": {},
   "outputs": [
    {
     "name": "stderr",
     "output_type": "stream",
     "text": [
      "/home/arkiven4/.local/lib/python3.8/site-packages/urllib3/connectionpool.py:1103: InsecureRequestWarning: Unverified HTTPS request is being made to host '192.168.1.24'. Adding certificate verification is strongly advised. See: https://urllib3.readthedocs.io/en/latest/advanced-usage.html#tls-warnings\n",
      "  warnings.warn(\n"
     ]
    },
    {
     "data": {
      "text/plain": [
       "<Response [201]>"
      ]
     },
     "execution_count": 82,
     "metadata": {},
     "output_type": "execute_result"
    }
   ],
   "source": [
    "# Create New Point #201 Created # 409 Duplicated\n",
    "rsp_do_raw = requests.post(f\"{ROOT_URL}/dataservers/{DATASERVER_WEBID}/points\", headers=POSTHEADERS, data=json.dumps({\n",
    "  \"Name\": \"Coba1\",\n",
    "  \"Descriptor\": \"Coba1\",\n",
    "  \"PointClass\": \"classic\",\n",
    "  \"PointType\": \"Float32\",\n",
    "  \"EngineeringUnits\": \"\",\n",
    "  \"Step\": False,\n",
    "  \"Future\": False,\n",
    "  \"DisplayDigits\": -5\n",
    "}), verify=False)\n",
    "\n",
    "rsp_do_raw.headers['Location']\n",
    "point_webid = rsp_do_raw.headers['Location'].split(\"/\")[-1]"
   ]
  },
  {
   "cell_type": "code",
   "execution_count": 76,
   "metadata": {},
   "outputs": [
    {
     "name": "stderr",
     "output_type": "stream",
     "text": [
      "/home/arkiven4/.local/lib/python3.8/site-packages/urllib3/connectionpool.py:1103: InsecureRequestWarning: Unverified HTTPS request is being made to host '192.168.1.24'. Adding certificate verification is strongly advised. See: https://urllib3.readthedocs.io/en/latest/advanced-usage.html#tls-warnings\n",
      "  warnings.warn(\n"
     ]
    },
    {
     "data": {
      "text/plain": [
       "<Response [201]>"
      ]
     },
     "execution_count": 76,
     "metadata": {},
     "output_type": "execute_result"
    }
   ],
   "source": [
    "# Create New Attribute\n",
    "rsp_do_raw = requests.post(f\"{ROOT_URL}/elements/{ELEMENT_TARGET}/attributes\", headers=POSTHEADERS, data=json.dumps({\n",
    "  \"Name\": \"WaterEda2\",\n",
    "  \"Description\": \"2008 Water Use\",\n",
    "  \"Type\": \"Int32\",\n",
    "  \"TypeQualifier\": \"\",\n",
    "  \"DefaultUnitsName\": \"liter\",\n",
    "  \"DisplayDigits\": -5,\n",
    "  \"DataReferencePlugIn\": \"PI Point\",\n",
    "  \"ConfigString\": \"Coba3\",\n",
    "  \"IsConfigurationItem\": False,\n",
    "  \"IsHidden\": False,\n",
    "  \"IsManualDataEntry\": False,\n",
    "  \"CategoryNames\": [\n",
    "    \"Energy Savings Targets\"\n",
    "  ]\n",
    "}), verify=False)\n",
    "\n",
    "rsp_do_raw"
   ]
  },
  {
   "cell_type": "code",
   "execution_count": 99,
   "metadata": {},
   "outputs": [
    {
     "name": "stderr",
     "output_type": "stream",
     "text": [
      "/home/arkiven4/.local/lib/python3.8/site-packages/urllib3/connectionpool.py:1103: InsecureRequestWarning: Unverified HTTPS request is being made to host '192.168.1.24'. Adding certificate verification is strongly advised. See: https://urllib3.readthedocs.io/en/latest/advanced-usage.html#tls-warnings\n",
      "  warnings.warn(\n"
     ]
    },
    {
     "data": {
      "text/plain": [
       "''"
      ]
     },
     "execution_count": 99,
     "metadata": {},
     "output_type": "execute_result"
    }
   ],
   "source": [
    "# Create New Attribute\n",
    "rsp_do_raw = requests.post(f\"{ROOT_URL}/streams/{point_webid}/recorded\", headers=POSTHEADERS, data=json.dumps([\n",
    "  {\n",
    "    \"Timestamp\": \"2024-05-01T02:15:00Z\",\n",
    "    \"UnitsAbbreviation\": \"m\",\n",
    "    \"Good\": True,\n",
    "    \"Questionable\": False,\n",
    "    \"Value\": 3\n",
    "  },\n",
    "  {\n",
    "    \"Timestamp\": \"2024-05-01T01:45:00Z\",\n",
    "    \"UnitsAbbreviation\": \"m\",\n",
    "    \"Good\": True,\n",
    "    \"Questionable\": False,\n",
    "    \"Value\": 2\n",
    "  }\n",
    "]), verify=False)\n",
    "\n",
    "rsp_do_raw.text"
   ]
  },
  {
   "cell_type": "code",
   "execution_count": 100,
   "metadata": {},
   "outputs": [
    {
     "data": {
      "text/plain": [
       "<Response [202]>"
      ]
     },
     "execution_count": 100,
     "metadata": {},
     "output_type": "execute_result"
    }
   ],
   "source": [
    "rsp_do_raw"
   ]
  },
  {
   "cell_type": "code",
   "execution_count": 91,
   "metadata": {},
   "outputs": [],
   "source": [
    "WS = pd.read_excel('LGS#1_Overall 2017-2023 (hourly).xlsx', \"LGS#1 2023\")"
   ]
  },
  {
   "cell_type": "code",
   "execution_count": 92,
   "metadata": {},
   "outputs": [
    {
     "data": {
      "text/html": [
       "<div>\n",
       "<style scoped>\n",
       "    .dataframe tbody tr th:only-of-type {\n",
       "        vertical-align: middle;\n",
       "    }\n",
       "\n",
       "    .dataframe tbody tr th {\n",
       "        vertical-align: top;\n",
       "    }\n",
       "\n",
       "    .dataframe thead th {\n",
       "        text-align: right;\n",
       "    }\n",
       "</style>\n",
       "<table border=\"1\" class=\"dataframe\">\n",
       "  <thead>\n",
       "    <tr style=\"text-align: right;\">\n",
       "      <th></th>\n",
       "      <th>TimeStamp</th>\n",
       "      <th>Active Power (MW)</th>\n",
       "      <th>Grid (Aux: 0 &amp; FCE:1)</th>\n",
       "      <th>Reactive Power (MVAr)</th>\n",
       "      <th>Exc Voltage (Volt)</th>\n",
       "      <th>Exc Current (A)</th>\n",
       "      <th>V Phase 1 (Volt)</th>\n",
       "      <th>V Phase 2 (Volt)</th>\n",
       "      <th>V Phase 3 (Volt)</th>\n",
       "      <th>Current Phase 1 (A)</th>\n",
       "      <th>...</th>\n",
       "      <th>LGB Metal Temp 2</th>\n",
       "      <th>LGB Oil Temp</th>\n",
       "      <th>Gen air Cooler Air Otlet Temp</th>\n",
       "      <th>Gen air Cooler Water Inlet Temp</th>\n",
       "      <th>Gen air Cooler Water Otlet Temp</th>\n",
       "      <th>Gen Cooler Water Flow (LPM)</th>\n",
       "      <th>UGB Cooling Water Flow (LPM)</th>\n",
       "      <th>LGB Cooling Water Flow (LPM)</th>\n",
       "      <th>Lower Canal Level (msAL)</th>\n",
       "      <th>TailRace Level (msAL)</th>\n",
       "    </tr>\n",
       "  </thead>\n",
       "  <tbody>\n",
       "    <tr>\n",
       "      <th>0</th>\n",
       "      <td>2023-01-01 00:00:01</td>\n",
       "      <td>37.61</td>\n",
       "      <td>0.0</td>\n",
       "      <td>19.07</td>\n",
       "      <td>123.82</td>\n",
       "      <td>702.02</td>\n",
       "      <td>10.77</td>\n",
       "      <td>10.73</td>\n",
       "      <td>10.84</td>\n",
       "      <td>0.0</td>\n",
       "      <td>...</td>\n",
       "      <td>53.0</td>\n",
       "      <td>70.0</td>\n",
       "      <td>55.14</td>\n",
       "      <td>61.01</td>\n",
       "      <td>59.31</td>\n",
       "      <td>3795.33</td>\n",
       "      <td>32.42</td>\n",
       "      <td>945.70</td>\n",
       "      <td>308.1</td>\n",
       "      <td>165.96</td>\n",
       "    </tr>\n",
       "    <tr>\n",
       "      <th>1</th>\n",
       "      <td>2023-01-01 01:00:01</td>\n",
       "      <td>37.51</td>\n",
       "      <td>0.0</td>\n",
       "      <td>19.04</td>\n",
       "      <td>123.86</td>\n",
       "      <td>704.99</td>\n",
       "      <td>10.77</td>\n",
       "      <td>10.73</td>\n",
       "      <td>10.83</td>\n",
       "      <td>0.0</td>\n",
       "      <td>...</td>\n",
       "      <td>53.0</td>\n",
       "      <td>70.0</td>\n",
       "      <td>55.26</td>\n",
       "      <td>61.63</td>\n",
       "      <td>60.00</td>\n",
       "      <td>3797.60</td>\n",
       "      <td>32.42</td>\n",
       "      <td>946.46</td>\n",
       "      <td>308.1</td>\n",
       "      <td>165.97</td>\n",
       "    </tr>\n",
       "    <tr>\n",
       "      <th>2</th>\n",
       "      <td>2023-01-01 02:00:01</td>\n",
       "      <td>37.34</td>\n",
       "      <td>0.0</td>\n",
       "      <td>19.00</td>\n",
       "      <td>123.34</td>\n",
       "      <td>702.22</td>\n",
       "      <td>10.76</td>\n",
       "      <td>10.72</td>\n",
       "      <td>10.83</td>\n",
       "      <td>0.0</td>\n",
       "      <td>...</td>\n",
       "      <td>53.0</td>\n",
       "      <td>70.0</td>\n",
       "      <td>55.39</td>\n",
       "      <td>62.00</td>\n",
       "      <td>60.00</td>\n",
       "      <td>3793.92</td>\n",
       "      <td>32.42</td>\n",
       "      <td>944.96</td>\n",
       "      <td>308.1</td>\n",
       "      <td>165.98</td>\n",
       "    </tr>\n",
       "    <tr>\n",
       "      <th>3</th>\n",
       "      <td>2023-01-01 03:00:02</td>\n",
       "      <td>37.17</td>\n",
       "      <td>0.0</td>\n",
       "      <td>18.97</td>\n",
       "      <td>124.49</td>\n",
       "      <td>703.04</td>\n",
       "      <td>10.76</td>\n",
       "      <td>10.72</td>\n",
       "      <td>10.82</td>\n",
       "      <td>0.0</td>\n",
       "      <td>...</td>\n",
       "      <td>53.0</td>\n",
       "      <td>70.0</td>\n",
       "      <td>55.51</td>\n",
       "      <td>62.00</td>\n",
       "      <td>60.00</td>\n",
       "      <td>3798.31</td>\n",
       "      <td>32.42</td>\n",
       "      <td>947.38</td>\n",
       "      <td>308.1</td>\n",
       "      <td>165.99</td>\n",
       "    </tr>\n",
       "    <tr>\n",
       "      <th>4</th>\n",
       "      <td>2023-01-01 04:00:02</td>\n",
       "      <td>37.01</td>\n",
       "      <td>0.0</td>\n",
       "      <td>18.93</td>\n",
       "      <td>121.03</td>\n",
       "      <td>702.86</td>\n",
       "      <td>10.75</td>\n",
       "      <td>10.72</td>\n",
       "      <td>10.82</td>\n",
       "      <td>0.0</td>\n",
       "      <td>...</td>\n",
       "      <td>53.0</td>\n",
       "      <td>70.0</td>\n",
       "      <td>55.64</td>\n",
       "      <td>62.00</td>\n",
       "      <td>60.00</td>\n",
       "      <td>3806.77</td>\n",
       "      <td>32.42</td>\n",
       "      <td>948.19</td>\n",
       "      <td>308.1</td>\n",
       "      <td>166.00</td>\n",
       "    </tr>\n",
       "  </tbody>\n",
       "</table>\n",
       "<p>5 rows × 46 columns</p>\n",
       "</div>"
      ],
      "text/plain": [
       "            TimeStamp  Active Power (MW)  Grid (Aux: 0 & FCE:1)  \\\n",
       "0 2023-01-01 00:00:01              37.61                    0.0   \n",
       "1 2023-01-01 01:00:01              37.51                    0.0   \n",
       "2 2023-01-01 02:00:01              37.34                    0.0   \n",
       "3 2023-01-01 03:00:02              37.17                    0.0   \n",
       "4 2023-01-01 04:00:02              37.01                    0.0   \n",
       "\n",
       "   Reactive Power (MVAr)  Exc Voltage (Volt)  Exc Current (A)  \\\n",
       "0                  19.07              123.82           702.02   \n",
       "1                  19.04              123.86           704.99   \n",
       "2                  19.00              123.34           702.22   \n",
       "3                  18.97              124.49           703.04   \n",
       "4                  18.93              121.03           702.86   \n",
       "\n",
       "   V Phase 1 (Volt)  V Phase 2 (Volt)  V Phase 3 (Volt)  Current Phase 1 (A)  \\\n",
       "0             10.77             10.73             10.84                  0.0   \n",
       "1             10.77             10.73             10.83                  0.0   \n",
       "2             10.76             10.72             10.83                  0.0   \n",
       "3             10.76             10.72             10.82                  0.0   \n",
       "4             10.75             10.72             10.82                  0.0   \n",
       "\n",
       "   ...  LGB Metal Temp 2  LGB Oil Temp  Gen air Cooler Air Otlet Temp  \\\n",
       "0  ...              53.0          70.0                          55.14   \n",
       "1  ...              53.0          70.0                          55.26   \n",
       "2  ...              53.0          70.0                          55.39   \n",
       "3  ...              53.0          70.0                          55.51   \n",
       "4  ...              53.0          70.0                          55.64   \n",
       "\n",
       "   Gen air Cooler Water Inlet Temp  Gen air Cooler Water Otlet Temp  \\\n",
       "0                            61.01                            59.31   \n",
       "1                            61.63                            60.00   \n",
       "2                            62.00                            60.00   \n",
       "3                            62.00                            60.00   \n",
       "4                            62.00                            60.00   \n",
       "\n",
       "   Gen Cooler Water Flow (LPM)  UGB Cooling Water Flow (LPM)  \\\n",
       "0                      3795.33                         32.42   \n",
       "1                      3797.60                         32.42   \n",
       "2                      3793.92                         32.42   \n",
       "3                      3798.31                         32.42   \n",
       "4                      3806.77                         32.42   \n",
       "\n",
       "   LGB Cooling Water Flow (LPM)  Lower Canal Level (msAL)  \\\n",
       "0                        945.70                     308.1   \n",
       "1                        946.46                     308.1   \n",
       "2                        944.96                     308.1   \n",
       "3                        947.38                     308.1   \n",
       "4                        948.19                     308.1   \n",
       "\n",
       "   TailRace Level (msAL)  \n",
       "0                 165.96  \n",
       "1                 165.97  \n",
       "2                 165.98  \n",
       "3                 165.99  \n",
       "4                 166.00  \n",
       "\n",
       "[5 rows x 46 columns]"
      ]
     },
     "execution_count": 92,
     "metadata": {},
     "output_type": "execute_result"
    }
   ],
   "source": [
    "WS.head()"
   ]
  }
 ],
 "metadata": {
  "kernelspec": {
   "display_name": "Python 3",
   "language": "python",
   "name": "python3"
  },
  "language_info": {
   "codemirror_mode": {
    "name": "ipython",
    "version": 3
   },
   "file_extension": ".py",
   "mimetype": "text/x-python",
   "name": "python",
   "nbconvert_exporter": "python",
   "pygments_lexer": "ipython3",
   "version": "3.8.18"
  },
  "orig_nbformat": 4
 },
 "nbformat": 4,
 "nbformat_minor": 2
}
