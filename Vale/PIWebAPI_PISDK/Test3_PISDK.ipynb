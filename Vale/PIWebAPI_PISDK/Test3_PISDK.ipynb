{
 "cells": [
  {
   "cell_type": "code",
   "execution_count": 1,
   "metadata": {},
   "outputs": [
    {
     "name": "stdout",
     "output_type": "stream",
     "text": [
      "OSIsoft(r) AF SDK Version: 3.0.0.790\n",
      "['WIN-5MGCA5NMS7S']\n"
     ]
    }
   ],
   "source": [
    "import numpy \n",
    "import pandas as pd\n",
    "\n",
    "import requests\n",
    "from datetime import datetime, timezone\n",
    "import numpy as np\n",
    "import matplotlib.pyplot as plt\n",
    "from pathlib import Path\n",
    "import json\n",
    "from base64 import b64encode\n",
    "import time\n",
    "import PIconnect as PI\n",
    "from PIconnect.PIConsts import UpdateMode, BufferMode\n",
    "\n",
    "import warnings\n",
    "warnings.filterwarnings(\"ignore\")\n",
    "\n",
    "import PIconnect as PI\n",
    "print(list(PI.PIServer.servers.keys()))\n",
    "\n",
    "ROOT_URL = \"https://127.0.0.1/piwebapi\"\n",
    "COMPUTER = \"WIN-5MGCA5NMS7S\"\n",
    "DATABASE = \"Database1\"\n",
    "USERNAME = f\"{COMPUTER}\\Administrator\"\n",
    "PASSWORD = \"abcd1234..\"\n",
    "\n",
    "def basic_auth(username, password):\n",
    "    token = b64encode(f\"{username}:{password}\".encode('utf-8')).decode(\"ascii\")\n",
    "    return f'Basic {token}'\n",
    "\n",
    "BASIC_AUTH_TOKEN = basic_auth(USERNAME, PASSWORD)\n",
    "POSTHEADERS = { 'X-Requested-With': 'True', 'Content-Type': 'application/json', 'Authorization': BASIC_AUTH_TOKEN }"
   ]
  },
  {
   "cell_type": "code",
   "execution_count": 2,
   "metadata": {},
   "outputs": [
    {
     "data": {
      "text/plain": [
       "{'Links': {'Self': 'https://127.0.0.1/piwebapi/',\n",
       "  'AssetServers': 'https://127.0.0.1/piwebapi/assetservers',\n",
       "  'DataServers': 'https://127.0.0.1/piwebapi/dataservers',\n",
       "  'Omf': 'https://127.0.0.1/piwebapi/omf',\n",
       "  'System': 'https://127.0.0.1/piwebapi/system'}}"
      ]
     },
     "execution_count": 2,
     "metadata": {},
     "output_type": "execute_result"
    }
   ],
   "source": [
    "# Test Server\n",
    "response_server = requests.get(f\"{ROOT_URL}/\", auth=(USERNAME, PASSWORD), verify=False)\n",
    "response_server.json()"
   ]
  },
  {
   "cell_type": "code",
   "execution_count": 12,
   "metadata": {},
   "outputs": [],
   "source": [
    "# Get Database WebID\n",
    "elementPath = f\"\\\\\\\\{COMPUTER}\\\\{DATABASE}\"\n",
    "rsp_element_raw = requests.get(f\"{ROOT_URL}/assetdatabases?path={elementPath}\", auth=(USERNAME, PASSWORD), verify=False)\n",
    "DATABASE_WEBID = rsp_element_raw.json()['WebId']\n",
    "\n",
    "# Get DATASERVER WebID\n",
    "elementPath = f\"\\\\\\\\{COMPUTER}\\\\{DATABASE}\"\n",
    "rsp_element_raw = requests.get(f\"{ROOT_URL}/dataservers\", auth=(USERNAME, PASSWORD), verify=False)\n",
    "DATASERVER_WEBID = rsp_element_raw.json()['Items'][0]['WebId']\n",
    "\n",
    "# Get By Path Element\n",
    "elementPath = f\"\\\\\\\\{COMPUTER}\\\\{DATABASE}\\\\Data_Site\\\\LGS\"\n",
    "rsp_element_raw = requests.get(f\"{ROOT_URL}/elements?path={elementPath}\", auth=(USERNAME, PASSWORD), verify=False)\n",
    "rsp_element_json = rsp_element_raw.json()\n",
    "ELEMENT_TARGET = rsp_element_json['WebId']"
   ]
  },
  {
   "cell_type": "code",
   "execution_count": 3,
   "metadata": {},
   "outputs": [
    {
     "data": {
      "text/html": [
       "<div>\n",
       "<style scoped>\n",
       "    .dataframe tbody tr th:only-of-type {\n",
       "        vertical-align: middle;\n",
       "    }\n",
       "\n",
       "    .dataframe tbody tr th {\n",
       "        vertical-align: top;\n",
       "    }\n",
       "\n",
       "    .dataframe thead th {\n",
       "        text-align: right;\n",
       "    }\n",
       "</style>\n",
       "<table border=\"1\" class=\"dataframe\">\n",
       "  <thead>\n",
       "    <tr style=\"text-align: right;\">\n",
       "      <th></th>\n",
       "      <th>TimeStamp</th>\n",
       "      <th>Grid (Aux: 0 &amp; FCE:1)</th>\n",
       "      <th>Active Power (MW)</th>\n",
       "      <th>Reactive Power (MVAr)</th>\n",
       "      <th>Exc Voltage (Volt)</th>\n",
       "      <th>Exc Current (A)</th>\n",
       "      <th>V Phase 1 (Volt)</th>\n",
       "      <th>V Phase 2 (Volt)</th>\n",
       "      <th>V Phase 3 (Volt)</th>\n",
       "      <th>Current Phase 1 (A)</th>\n",
       "      <th>...</th>\n",
       "      <th>LGB Metal Temp 2 (Celcius)</th>\n",
       "      <th>LGB Oil Temp (Celcius)</th>\n",
       "      <th>Gen air Cooler Air Otlet Temp (Celcius)</th>\n",
       "      <th>Gen air Cooler Water Inlet Temp (Celcius)</th>\n",
       "      <th>Gen air Cooler Water Otlet Temp (Celcius)</th>\n",
       "      <th>Gen Cooler Water Flow (LPM)</th>\n",
       "      <th>UGB Cooling Water Flow (LPM)</th>\n",
       "      <th>LGB Cooling Water Flow (LPM)</th>\n",
       "      <th>Lower Canal Level (msAL)</th>\n",
       "      <th>TailRace Level (msAL)</th>\n",
       "    </tr>\n",
       "  </thead>\n",
       "  <tbody>\n",
       "    <tr>\n",
       "      <th>0</th>\n",
       "      <td>2023-01-01 00:00:01</td>\n",
       "      <td>0.0</td>\n",
       "      <td>37.61</td>\n",
       "      <td>19.07</td>\n",
       "      <td>123.82</td>\n",
       "      <td>702.02</td>\n",
       "      <td>10.77</td>\n",
       "      <td>10.73</td>\n",
       "      <td>10.84</td>\n",
       "      <td>0.0</td>\n",
       "      <td>...</td>\n",
       "      <td>53.0</td>\n",
       "      <td>70.0</td>\n",
       "      <td>55.14</td>\n",
       "      <td>61.01</td>\n",
       "      <td>59.31</td>\n",
       "      <td>3795.33</td>\n",
       "      <td>32.42</td>\n",
       "      <td>945.70</td>\n",
       "      <td>308.1</td>\n",
       "      <td>165.96</td>\n",
       "    </tr>\n",
       "    <tr>\n",
       "      <th>1</th>\n",
       "      <td>2023-01-01 01:00:01</td>\n",
       "      <td>0.0</td>\n",
       "      <td>37.51</td>\n",
       "      <td>19.04</td>\n",
       "      <td>123.86</td>\n",
       "      <td>704.99</td>\n",
       "      <td>10.77</td>\n",
       "      <td>10.73</td>\n",
       "      <td>10.83</td>\n",
       "      <td>0.0</td>\n",
       "      <td>...</td>\n",
       "      <td>53.0</td>\n",
       "      <td>70.0</td>\n",
       "      <td>55.26</td>\n",
       "      <td>61.63</td>\n",
       "      <td>60.00</td>\n",
       "      <td>3797.60</td>\n",
       "      <td>32.42</td>\n",
       "      <td>946.46</td>\n",
       "      <td>308.1</td>\n",
       "      <td>165.97</td>\n",
       "    </tr>\n",
       "    <tr>\n",
       "      <th>2</th>\n",
       "      <td>2023-01-01 02:00:01</td>\n",
       "      <td>0.0</td>\n",
       "      <td>37.34</td>\n",
       "      <td>19.00</td>\n",
       "      <td>123.34</td>\n",
       "      <td>702.22</td>\n",
       "      <td>10.76</td>\n",
       "      <td>10.72</td>\n",
       "      <td>10.83</td>\n",
       "      <td>0.0</td>\n",
       "      <td>...</td>\n",
       "      <td>53.0</td>\n",
       "      <td>70.0</td>\n",
       "      <td>55.39</td>\n",
       "      <td>62.00</td>\n",
       "      <td>60.00</td>\n",
       "      <td>3793.92</td>\n",
       "      <td>32.42</td>\n",
       "      <td>944.96</td>\n",
       "      <td>308.1</td>\n",
       "      <td>165.98</td>\n",
       "    </tr>\n",
       "    <tr>\n",
       "      <th>3</th>\n",
       "      <td>2023-01-01 03:00:02</td>\n",
       "      <td>0.0</td>\n",
       "      <td>37.17</td>\n",
       "      <td>18.97</td>\n",
       "      <td>124.49</td>\n",
       "      <td>703.04</td>\n",
       "      <td>10.76</td>\n",
       "      <td>10.72</td>\n",
       "      <td>10.82</td>\n",
       "      <td>0.0</td>\n",
       "      <td>...</td>\n",
       "      <td>53.0</td>\n",
       "      <td>70.0</td>\n",
       "      <td>55.51</td>\n",
       "      <td>62.00</td>\n",
       "      <td>60.00</td>\n",
       "      <td>3798.31</td>\n",
       "      <td>32.42</td>\n",
       "      <td>947.38</td>\n",
       "      <td>308.1</td>\n",
       "      <td>165.99</td>\n",
       "    </tr>\n",
       "    <tr>\n",
       "      <th>4</th>\n",
       "      <td>2023-01-01 04:00:02</td>\n",
       "      <td>0.0</td>\n",
       "      <td>37.01</td>\n",
       "      <td>18.93</td>\n",
       "      <td>121.03</td>\n",
       "      <td>702.86</td>\n",
       "      <td>10.75</td>\n",
       "      <td>10.72</td>\n",
       "      <td>10.82</td>\n",
       "      <td>0.0</td>\n",
       "      <td>...</td>\n",
       "      <td>53.0</td>\n",
       "      <td>70.0</td>\n",
       "      <td>55.64</td>\n",
       "      <td>62.00</td>\n",
       "      <td>60.00</td>\n",
       "      <td>3806.77</td>\n",
       "      <td>32.42</td>\n",
       "      <td>948.19</td>\n",
       "      <td>308.1</td>\n",
       "      <td>166.00</td>\n",
       "    </tr>\n",
       "  </tbody>\n",
       "</table>\n",
       "<p>5 rows × 46 columns</p>\n",
       "</div>"
      ],
      "text/plain": [
       "            TimeStamp  Grid (Aux: 0 & FCE:1)  Active Power (MW)  \\\n",
       "0 2023-01-01 00:00:01                    0.0              37.61   \n",
       "1 2023-01-01 01:00:01                    0.0              37.51   \n",
       "2 2023-01-01 02:00:01                    0.0              37.34   \n",
       "3 2023-01-01 03:00:02                    0.0              37.17   \n",
       "4 2023-01-01 04:00:02                    0.0              37.01   \n",
       "\n",
       "   Reactive Power (MVAr)  Exc Voltage (Volt)  Exc Current (A)  \\\n",
       "0                  19.07              123.82           702.02   \n",
       "1                  19.04              123.86           704.99   \n",
       "2                  19.00              123.34           702.22   \n",
       "3                  18.97              124.49           703.04   \n",
       "4                  18.93              121.03           702.86   \n",
       "\n",
       "   V Phase 1 (Volt)  V Phase 2 (Volt)  V Phase 3 (Volt)  Current Phase 1 (A)  \\\n",
       "0             10.77             10.73             10.84                  0.0   \n",
       "1             10.77             10.73             10.83                  0.0   \n",
       "2             10.76             10.72             10.83                  0.0   \n",
       "3             10.76             10.72             10.82                  0.0   \n",
       "4             10.75             10.72             10.82                  0.0   \n",
       "\n",
       "   ...  LGB Metal Temp 2 (Celcius)  LGB Oil Temp (Celcius)  \\\n",
       "0  ...                        53.0                    70.0   \n",
       "1  ...                        53.0                    70.0   \n",
       "2  ...                        53.0                    70.0   \n",
       "3  ...                        53.0                    70.0   \n",
       "4  ...                        53.0                    70.0   \n",
       "\n",
       "   Gen air Cooler Air Otlet Temp (Celcius)  \\\n",
       "0                                    55.14   \n",
       "1                                    55.26   \n",
       "2                                    55.39   \n",
       "3                                    55.51   \n",
       "4                                    55.64   \n",
       "\n",
       "   Gen air Cooler Water Inlet Temp (Celcius)  \\\n",
       "0                                      61.01   \n",
       "1                                      61.63   \n",
       "2                                      62.00   \n",
       "3                                      62.00   \n",
       "4                                      62.00   \n",
       "\n",
       "   Gen air Cooler Water Otlet Temp (Celcius)  Gen Cooler Water Flow (LPM)  \\\n",
       "0                                      59.31                      3795.33   \n",
       "1                                      60.00                      3797.60   \n",
       "2                                      60.00                      3793.92   \n",
       "3                                      60.00                      3798.31   \n",
       "4                                      60.00                      3806.77   \n",
       "\n",
       "   UGB Cooling Water Flow (LPM)  LGB Cooling Water Flow (LPM)  \\\n",
       "0                         32.42                        945.70   \n",
       "1                         32.42                        946.46   \n",
       "2                         32.42                        944.96   \n",
       "3                         32.42                        947.38   \n",
       "4                         32.42                        948.19   \n",
       "\n",
       "   Lower Canal Level (msAL)  TailRace Level (msAL)  \n",
       "0                     308.1                 165.96  \n",
       "1                     308.1                 165.97  \n",
       "2                     308.1                 165.98  \n",
       "3                     308.1                 165.99  \n",
       "4                     308.1                 166.00  \n",
       "\n",
       "[5 rows x 46 columns]"
      ]
     },
     "execution_count": 3,
     "metadata": {},
     "output_type": "execute_result"
    }
   ],
   "source": [
    "df = pd.read_excel('LGS#1_Overall 2017-2023 (hourly).xlsx', \"LGS#1 2023\")\n",
    "df.head()"
   ]
  },
  {
   "cell_type": "code",
   "execution_count": 4,
   "metadata": {},
   "outputs": [
    {
     "data": {
      "text/plain": [
       "0      2023-01-01 00:00:01\n",
       "1      2023-01-01 01:00:01\n",
       "2      2023-01-01 02:00:01\n",
       "3      2023-01-01 03:00:02\n",
       "4      2023-01-01 04:00:02\n",
       "               ...        \n",
       "7291   2023-10-31 19:59:57\n",
       "7292   2023-10-31 20:59:57\n",
       "7293   2023-10-31 21:59:58\n",
       "7294   2023-10-31 22:59:58\n",
       "7295   2023-10-31 23:59:59\n",
       "Name: TimeStamp, Length: 7296, dtype: datetime64[ns]"
      ]
     },
     "execution_count": 4,
     "metadata": {},
     "output_type": "execute_result"
    }
   ],
   "source": [
    "timestamp_df = pd.to_datetime(df.iloc[:,0])\n",
    "grid_df = df.iloc[:,1] \n",
    "insert_df = df.iloc[:,2:].fillna(-5)\n",
    "\n",
    "timestamp_df"
   ]
  },
  {
   "cell_type": "code",
   "execution_count": null,
   "metadata": {},
   "outputs": [],
   "source": [
    "for series_name, series in insert_df.items():\n",
    "    name_data = series_name.replace(\")\", \"\").split(\" (\")[0]\n",
    "    uom = series_name.replace(\")\", \"\").split(\"(\")[1]\n",
    "    series = series.astype('float32')\n",
    "    print(series_name)\n",
    "    \n",
    "    rsp_do_point_raw = requests.post(f\"{ROOT_URL}/dataservers/{DATASERVER_WEBID}/points\", headers=POSTHEADERS, data=json.dumps({\n",
    "        \"Name\": \"LGS_\" + name_data,\n",
    "        \"Descriptor\": \"LGS \" + name_data,\n",
    "        \"PointClass\": \"classic\",\n",
    "        \"PointType\": \"float32\",\n",
    "        \"EngineeringUnits\": \"\",\n",
    "        \"Step\": False,\n",
    "        \"Future\": False,\n",
    "        \"DisplayDigits\": -5\n",
    "    }), verify=False)\n",
    "    #print(rsp_do_point_raw)\n",
    "\n",
    "    rsp_do_raw = requests.post(f\"{ROOT_URL}/elements/{ELEMENT_TARGET}/attributes\", headers=POSTHEADERS, data=json.dumps({\n",
    "        \"Name\": name_data,\n",
    "        \"Description\": name_data,\n",
    "        \"Type\": \"Double\",\n",
    "        \"TypeQualifier\": \"\",\n",
    "        \"DefaultUnitsName\": '',\n",
    "        \"DisplayDigits\": -5,\n",
    "        \"DataReferencePlugIn\": \"PI Point\",\n",
    "        \"ConfigString\": \"LGS_\" + name_data,\n",
    "        \"IsConfigurationItem\": False,\n",
    "        \"IsHidden\": False,\n",
    "        \"IsManualDataEntry\": False\n",
    "    }), verify=False)\n",
    "    #print(rsp_do_raw)\n",
    "    time.sleep(1)\n",
    "    "
   ]
  },
  {
   "cell_type": "code",
   "execution_count": 10,
   "metadata": {},
   "outputs": [
    {
     "name": "stdout",
     "output_type": "stream",
     "text": [
      "Active Power (MW)\n"
     ]
    },
    {
     "ename": "ArgumentException",
     "evalue": "The supplied DateTime represents an invalid time.  For example, when the clock is adjusted forward, any time in the period that is skipped is invalid.\r\nParameter name: dateTime\r\n   at System.TimeZoneInfo.ConvertTime(DateTime dateTime, TimeZoneInfo sourceTimeZone, TimeZoneInfo destinationTimeZone, TimeZoneInfoOptions flags, CachedData cachedData)\r\n   at OSIsoft.AF.Time.AFTimeZone.ConvertTimeToUtc(DateTime dateTime, TimeZoneInfo sourceTimeZone)\r\n   at OSIsoft.AF.Time.AFTimeZone.ToUniversalTime(AFTimeZone source, DateTime time)\r\n   at OSIsoft.AF.Time.AFTime.LocalTimeToUtcTime(DateTime localTime, AFTimeZone timeZone, Boolean clamp)\r\n   at OSIsoft.AF.Time.AFTime.TryParseImpl(String input, Nullable`1 referenceTime, AFTimeZone timeZone, IFormatProvider provider, Boolean throwErrors, DateTime& result)\r\n   at OSIsoft.AF.Time.AFTime.TryParseRetryImpl(String input, Nullable`1 referenceTime, IFormatProvider provider, Boolean toUtcTime, Boolean throwErrors, DateTime& result)\r\n   at OSIsoft.AF.Time.AFTime..ctor(String timeString, IFormatProvider provider)",
     "output_type": "error",
     "traceback": [
      "\u001b[1;31m---------------------------------------------------------------------------\u001b[0m",
      "\u001b[1;31mArgumentException\u001b[0m                         Traceback (most recent call last)",
      "Cell \u001b[1;32mIn[10], line 11\u001b[0m\n\u001b[0;32m      9\u001b[0m point \u001b[38;5;241m=\u001b[39m server\u001b[38;5;241m.\u001b[39msearch(current_point_name)[\u001b[38;5;241m0\u001b[39m]\n\u001b[0;32m     10\u001b[0m \u001b[38;5;28;01mfor\u001b[39;00m index, value \u001b[38;5;129;01min\u001b[39;00m series\u001b[38;5;241m.\u001b[39mitems():\n\u001b[1;32m---> 11\u001b[0m     \u001b[43mpoint\u001b[49m\u001b[38;5;241;43m.\u001b[39;49m\u001b[43mupdate_value\u001b[49m\u001b[43m(\u001b[49m\n\u001b[0;32m     12\u001b[0m \u001b[43m            \u001b[49m\u001b[43mvalue\u001b[49m\u001b[43m,\u001b[49m\n\u001b[0;32m     13\u001b[0m \u001b[43m            \u001b[49m\u001b[43mtimestamp_df\u001b[49m\u001b[43m[\u001b[49m\u001b[43mindex\u001b[49m\u001b[43m]\u001b[49m\u001b[38;5;241;43m.\u001b[39;49m\u001b[43mto_pydatetime\u001b[49m\u001b[43m(\u001b[49m\u001b[43m)\u001b[49m\u001b[43m,\u001b[49m\n\u001b[0;32m     14\u001b[0m \u001b[43m            \u001b[49m\u001b[43mUpdateMode\u001b[49m\u001b[38;5;241;43m.\u001b[39;49m\u001b[43mNO_REPLACE\u001b[49m\u001b[43m,\u001b[49m\n\u001b[0;32m     15\u001b[0m \u001b[43m            \u001b[49m\u001b[43mBufferMode\u001b[49m\u001b[38;5;241;43m.\u001b[39;49m\u001b[43mDO_NOT_BUFFER\u001b[49m\u001b[43m,\u001b[49m\n\u001b[0;32m     16\u001b[0m \u001b[43m        \u001b[49m\u001b[43m)\u001b[49m\n\u001b[0;32m     18\u001b[0m     \u001b[38;5;66;03m# time.sleep(50/1000)\u001b[39;00m\n\u001b[0;32m     19\u001b[0m     \u001b[38;5;66;03m# print(index / len(series))\u001b[39;00m\n",
      "File \u001b[1;32mc:\\Users\\Administrator\\AppData\\Local\\Programs\\Python\\Python38\\lib\\site-packages\\PIconnect\\PIData.py:582\u001b[0m, in \u001b[0;36mPISeriesContainer.update_value\u001b[1;34m(self, value, time, update_mode, buffer_mode)\u001b[0m\n\u001b[0;32m    579\u001b[0m \u001b[38;5;28;01mfrom\u001b[39;00m \u001b[38;5;21;01m.\u001b[39;00m \u001b[38;5;28;01mimport\u001b[39;00m _time \u001b[38;5;28;01mas\u001b[39;00m time_module\n\u001b[0;32m    581\u001b[0m \u001b[38;5;28;01mif\u001b[39;00m time \u001b[38;5;129;01mis\u001b[39;00m \u001b[38;5;129;01mnot\u001b[39;00m \u001b[38;5;28;01mNone\u001b[39;00m:\n\u001b[1;32m--> 582\u001b[0m     _value \u001b[38;5;241m=\u001b[39m AF\u001b[38;5;241m.\u001b[39mAsset\u001b[38;5;241m.\u001b[39mAFValue(value, \u001b[43mtime_module\u001b[49m\u001b[38;5;241;43m.\u001b[39;49m\u001b[43mto_af_time\u001b[49m\u001b[43m(\u001b[49m\u001b[43mtime\u001b[49m\u001b[43m)\u001b[49m)\n\u001b[0;32m    583\u001b[0m \u001b[38;5;28;01melse\u001b[39;00m:\n\u001b[0;32m    584\u001b[0m     _value \u001b[38;5;241m=\u001b[39m AF\u001b[38;5;241m.\u001b[39mAsset\u001b[38;5;241m.\u001b[39mAFValue(value)\n",
      "File \u001b[1;32mc:\\Users\\Administrator\\AppData\\Local\\Programs\\Python\\Python38\\lib\\site-packages\\PIconnect\\_time.py:51\u001b[0m, in \u001b[0;36mto_af_time\u001b[1;34m(time)\u001b[0m\n\u001b[0;32m     48\u001b[0m \u001b[38;5;28;01mif\u001b[39;00m \u001b[38;5;28misinstance\u001b[39m(time, datetime\u001b[38;5;241m.\u001b[39mdatetime):\n\u001b[0;32m     49\u001b[0m     time \u001b[38;5;241m=\u001b[39m time\u001b[38;5;241m.\u001b[39misoformat()\n\u001b[1;32m---> 51\u001b[0m \u001b[38;5;28;01mreturn\u001b[39;00m \u001b[43mAF\u001b[49m\u001b[38;5;241;43m.\u001b[39;49m\u001b[43mTime\u001b[49m\u001b[38;5;241;43m.\u001b[39;49m\u001b[43mAFTime\u001b[49m\u001b[43m(\u001b[49m\u001b[43mtime\u001b[49m\u001b[43m)\u001b[49m\n",
      "\u001b[1;31mArgumentException\u001b[0m: The supplied DateTime represents an invalid time.  For example, when the clock is adjusted forward, any time in the period that is skipped is invalid.\r\nParameter name: dateTime\r\n   at System.TimeZoneInfo.ConvertTime(DateTime dateTime, TimeZoneInfo sourceTimeZone, TimeZoneInfo destinationTimeZone, TimeZoneInfoOptions flags, CachedData cachedData)\r\n   at OSIsoft.AF.Time.AFTimeZone.ConvertTimeToUtc(DateTime dateTime, TimeZoneInfo sourceTimeZone)\r\n   at OSIsoft.AF.Time.AFTimeZone.ToUniversalTime(AFTimeZone source, DateTime time)\r\n   at OSIsoft.AF.Time.AFTime.LocalTimeToUtcTime(DateTime localTime, AFTimeZone timeZone, Boolean clamp)\r\n   at OSIsoft.AF.Time.AFTime.TryParseImpl(String input, Nullable`1 referenceTime, AFTimeZone timeZone, IFormatProvider provider, Boolean throwErrors, DateTime& result)\r\n   at OSIsoft.AF.Time.AFTime.TryParseRetryImpl(String input, Nullable`1 referenceTime, IFormatProvider provider, Boolean toUtcTime, Boolean throwErrors, DateTime& result)\r\n   at OSIsoft.AF.Time.AFTime..ctor(String timeString, IFormatProvider provider)"
     ]
    }
   ],
   "source": [
    "for series_name, series in insert_df.items():\n",
    "    name_data = series_name.replace(\")\", \"\").split(\" (\")[0]\n",
    "    uom = series_name.replace(\")\", \"\").split(\"(\")[1]\n",
    "    series = series.astype('float32')\n",
    "    current_point_name = \"LGS_\" + name_data\n",
    "    print(series_name)\n",
    "\n",
    "    with PI.PIServer(server=COMPUTER) as server:\n",
    "        point = server.search(current_point_name)[0]\n",
    "        for index, value in series.items():\n",
    "            point.update_value(\n",
    "                    value,\n",
    "                    timestamp_df[index].to_pydatetime(),\n",
    "                    UpdateMode.NO_REPLACE,\n",
    "                    BufferMode.DO_NOT_BUFFER,\n",
    "                )\n",
    "\n",
    "            # time.sleep(50/1000)\n",
    "            # print(index / len(series))"
   ]
  },
  {
   "cell_type": "code",
   "execution_count": 8,
   "metadata": {},
   "outputs": [
    {
     "data": {
      "text/plain": [
       "Timestamp('2023-03-12 01:13:50')"
      ]
     },
     "execution_count": 8,
     "metadata": {},
     "output_type": "execute_result"
    }
   ],
   "source": [
    "timestamp_df[index-1]"
   ]
  },
  {
   "cell_type": "code",
   "execution_count": 9,
   "metadata": {},
   "outputs": [
    {
     "data": {
      "text/plain": [
       "Timestamp('2023-03-12 02:13:50')"
      ]
     },
     "execution_count": 9,
     "metadata": {},
     "output_type": "execute_result"
    }
   ],
   "source": [
    "timestamp_df[index]"
   ]
  },
  {
   "cell_type": "code",
   "execution_count": 11,
   "metadata": {},
   "outputs": [
    {
     "data": {
      "text/plain": [
       "Timestamp('2023-03-12 03:13:51')"
      ]
     },
     "execution_count": 11,
     "metadata": {},
     "output_type": "execute_result"
    }
   ],
   "source": [
    "timestamp_df[index+1]"
   ]
  },
  {
   "cell_type": "code",
   "execution_count": 7,
   "metadata": {},
   "outputs": [
    {
     "data": {
      "text/plain": [
       "datetime.datetime(2023, 3, 12, 1, 13, 50)"
      ]
     },
     "execution_count": 7,
     "metadata": {},
     "output_type": "execute_result"
    }
   ],
   "source": [
    "timestamp_df[index-1].to_pydatetime()"
   ]
  },
  {
   "cell_type": "code",
   "execution_count": 6,
   "metadata": {},
   "outputs": [
    {
     "data": {
      "text/plain": [
       "datetime.datetime(2023, 3, 12, 2, 13, 50)"
      ]
     },
     "execution_count": 6,
     "metadata": {},
     "output_type": "execute_result"
    }
   ],
   "source": [
    "timestamp_df[index].to_pydatetime()"
   ]
  },
  {
   "cell_type": "code",
   "execution_count": 56,
   "metadata": {},
   "outputs": [
    {
     "data": {
      "text/plain": [
       "datetime.datetime(2023, 3, 12, 0, 13, 49)"
      ]
     },
     "execution_count": 56,
     "metadata": {},
     "output_type": "execute_result"
    }
   ],
   "source": [
    "timestamp_df[index-2].to_pydatetime()"
   ]
  },
  {
   "cell_type": "code",
   "execution_count": 57,
   "metadata": {},
   "outputs": [
    {
     "data": {
      "text/plain": [
       "datetime.datetime(2023, 3, 12, 3, 13, 51)"
      ]
     },
     "execution_count": 57,
     "metadata": {},
     "output_type": "execute_result"
    }
   ],
   "source": [
    "timestamp_df[index+1].to_pydatetime()"
   ]
  },
  {
   "cell_type": "code",
   "execution_count": 47,
   "metadata": {},
   "outputs": [
    {
     "data": {
      "text/plain": [
       "'TailRace Level'"
      ]
     },
     "execution_count": 47,
     "metadata": {},
     "output_type": "execute_result"
    }
   ],
   "source": []
  },
  {
   "cell_type": "code",
   "execution_count": 51,
   "metadata": {},
   "outputs": [
    {
     "data": {
      "text/plain": [
       "[PIPoint(LGS_TailRace Level, LGS TailRace Level; Current Value: Pt Created )]"
      ]
     },
     "execution_count": 51,
     "metadata": {},
     "output_type": "execute_result"
    }
   ],
   "source": [
    "point"
   ]
  },
  {
   "cell_type": "code",
   "execution_count": null,
   "metadata": {},
   "outputs": [],
   "source": [
    "\n",
    "\n",
    "\n",
    "\n"
   ]
  },
  {
   "cell_type": "code",
   "execution_count": 43,
   "metadata": {},
   "outputs": [
    {
     "data": {
      "text/plain": [
       "'msAL'"
      ]
     },
     "execution_count": 43,
     "metadata": {},
     "output_type": "execute_result"
    }
   ],
   "source": [
    "uom"
   ]
  },
  {
   "cell_type": "code",
   "execution_count": 42,
   "metadata": {},
   "outputs": [
    {
     "data": {
      "text/plain": [
       "{'Transfer-Encoding': 'chunked', 'Content-Type': 'application/json; charset=utf-8', 'Server': 'Microsoft-HTTPAPI/2.0', 'X-Frame-Options': 'SAMEORIGIN', 'Content-Security-Policy': \"default-src 'self'; object-src 'none'\", 'X-Content-Type-Options': 'nosniff', 'Strict-Transport-Security': 'max-age=86400', 'Date': 'Thu, 02 May 2024 13:27:58 GMT'}"
      ]
     },
     "execution_count": 42,
     "metadata": {},
     "output_type": "execute_result"
    }
   ],
   "source": [
    "rsp_do_raw.headers"
   ]
  },
  {
   "cell_type": "code",
   "execution_count": 37,
   "metadata": {},
   "outputs": [
    {
     "data": {
      "text/plain": [
       "<Response [409]>"
      ]
     },
     "execution_count": 37,
     "metadata": {},
     "output_type": "execute_result"
    }
   ],
   "source": [
    "rsp_do_point_raw"
   ]
  },
  {
   "cell_type": "code",
   "execution_count": 35,
   "metadata": {},
   "outputs": [
    {
     "data": {
      "text/plain": [
       "<Response [400]>"
      ]
     },
     "execution_count": 35,
     "metadata": {},
     "output_type": "execute_result"
    }
   ],
   "source": [
    "rsp_do_raw"
   ]
  },
  {
   "cell_type": "code",
   "execution_count": 30,
   "metadata": {},
   "outputs": [
    {
     "data": {
      "text/plain": [
       "'Modbus MVAr'"
      ]
     },
     "execution_count": 30,
     "metadata": {},
     "output_type": "execute_result"
    }
   ],
   "source": [
    "series_name"
   ]
  },
  {
   "cell_type": "code",
   "execution_count": 24,
   "metadata": {},
   "outputs": [
    {
     "data": {
      "text/plain": [
       "datetime.datetime(2023, 1, 1, 0, 0, 1)"
      ]
     },
     "execution_count": 24,
     "metadata": {},
     "output_type": "execute_result"
    }
   ],
   "source": [
    "pd.to_datetime(df.iloc[:,0])[0]"
   ]
  },
  {
   "cell_type": "code",
   "execution_count": 11,
   "metadata": {},
   "outputs": [
    {
     "name": "stdout",
     "output_type": "stream",
     "text": [
      "WIN-5MGCA5NMS7S\n"
     ]
    }
   ],
   "source": [
    "with PI.PIServer(server=COMPUTER) as server:\n",
    "    print(server.server_name)"
   ]
  },
  {
   "cell_type": "code",
   "execution_count": 5,
   "metadata": {},
   "outputs": [
    {
     "name": "stdout",
     "output_type": "stream",
     "text": [
      "['WIN-5MGCA5NMS7S']\n"
     ]
    }
   ],
   "source": []
  }
 ],
 "metadata": {
  "kernelspec": {
   "display_name": "Python 3",
   "language": "python",
   "name": "python3"
  },
  "language_info": {
   "codemirror_mode": {
    "name": "ipython",
    "version": 3
   },
   "file_extension": ".py",
   "mimetype": "text/x-python",
   "name": "python",
   "nbconvert_exporter": "python",
   "pygments_lexer": "ipython3",
   "version": "3.8.0"
  }
 },
 "nbformat": 4,
 "nbformat_minor": 2
}
