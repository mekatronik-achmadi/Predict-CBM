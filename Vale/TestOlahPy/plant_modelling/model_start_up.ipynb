{
 "cells": [
  {
   "cell_type": "markdown",
   "metadata": {},
   "source": [
    "# Hydro power plant modelling \n",
    "\n",
    "This plant model implementation is based on research article entitled \"Transient vibration of shafting in coupled hydraulic-mechanical-electrical- structural system for hydropower station during start-up process\" (zhang et al., 2023)\n",
    "\n",
    "The provided model will imcorporate these following boundaries condition:\n",
    "- Taking the start-up process as the research condition, and employing the unbalance magnetic pull (UMP), and the connection among hydraulic, mechanical, electrical parameters and the vibration of unit through transient process of HMESs is established.\n",
    "- The dynamic properties of shafting system at different stages in start-up process are investigated.\n",
    "- The vibration response mechanisms of rotor and runner when system is in start-up scenario are clarified\n",
    "\n",
    "In this model, the equations are built based on each of hydropower plant's subsystem, such as:\n",
    "- Penstock\n",
    "- Water turbine\n",
    "- Generator and grid\n",
    "- The shafting system model"
   ]
  },
  {
   "cell_type": "code",
   "execution_count": null,
   "metadata": {},
   "outputs": [],
   "source": [
    "# import all necessary packages\n",
    "import numpy as np \n"
   ]
  }
 ],
 "metadata": {
  "language_info": {
   "name": "python"
  },
  "orig_nbformat": 4
 },
 "nbformat": 4,
 "nbformat_minor": 2
}
