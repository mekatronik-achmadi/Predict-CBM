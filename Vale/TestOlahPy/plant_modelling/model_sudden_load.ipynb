{
 "cells": [
  {
   "cell_type": "markdown",
   "metadata": {},
   "source": [
    "# Hydro power plant modelling \n",
    "\n",
    "This plant model implementation is based on research article entitled \"Vibration Characteristics of a Hydroelectric Generating System with Different Hydraulic-Mechanical-Electric Parameters in a Sudden Load Increasing Process\" (Guo et al., 2021)\n",
    "\n",
    "The model couples several main components of hydro power plant (HPP) such as,\n",
    "- Hydro-turbine generator shafting system (HGSS)\n",
    "- Governor\n",
    "- Generator\n",
    "- Water diversion system (WDS)\n",
    "- single-machine single-load power systems (SMSLPS)\n",
    "\n",
    "The impelemented model is specified on sudden load increasing condition (SLIP)"
   ]
  },
  {
   "cell_type": "code",
   "execution_count": null,
   "metadata": {},
   "outputs": [],
   "source": [
    "# import necessary packages\n",
    "import numpy as np \n",
    "import matplotlib.pyplot as plt "
   ]
  }
 ],
 "metadata": {
  "language_info": {
   "name": "python"
  },
  "orig_nbformat": 4
 },
 "nbformat": 4,
 "nbformat_minor": 2
}
